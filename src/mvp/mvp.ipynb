{
 "cells": [
  {
   "cell_type": "code",
   "execution_count": 4,
   "id": "359f2b5e",
   "metadata": {},
   "outputs": [],
   "source": [
    "import json\n",
    "from pathlib import Path\n",
    "from typing import List, Dict, Any\n",
    "\n",
    "DEFAULT_FILE_NAME = \"tasks.json\"\n",
    "\n",
    "class JsonStorage:\n",
    "    def __init__(self, file_path: Path | None = None) -> None:\n",
    "        self.file_path = file_path or Path.cwd() / DEFAULT_FILE_NAME\n",
    "        # Guarantee file exists, even with an empty list\n",
    "        if not self.file_path.exists():\n",
    "            self._write_all([])\n",
    "\n",
    "\n",
    "    def _read_all(self) -> List[Dict[str, Any]]:\n",
    "        try:\n",
    "            with self.file_path.open(\"r\", encoding=\"utf-8\") as f:\n",
    "                data = json.load(f)\n",
    "                if isinstance(data, list):\n",
    "                    return data\n",
    "                return []\n",
    "        except json.JSONDecodeError:\n",
    "            print(\" Warning: JSON file is corrupted, starting with an empty list\")\n",
    "            return []\n",
    "\n",
    "\n",
    "    def _write_all(self, tasks: List[Dict[str, Any]]) -> None:\n",
    "        tmp = self.file_path.with_suffix(\".tmp\")\n",
    "        with tmp.open(\"w\", encoding=\"utf-8\") as f:\n",
    "            json.dump(tasks, f, ensure_ascii=False, indent=2)\n",
    "        tmp.replace(self.file_path)\n",
    "\n",
    "\n",
    "    # API pública para o serviço\n",
    "    def list(self) -> List[Dict[str, Any]]:\n",
    "        return self._read_all()\n",
    "\n",
    "\n",
    "    def save_all(self, tasks: List[Dict[str, Any]]) -> None:\n",
    "        self._write_all(tasks)\n",
    "    "
   ]
  },
  {
   "cell_type": "code",
   "execution_count": 6,
   "id": "49834758",
   "metadata": {},
   "outputs": [],
   "source": [
    "from dataclasses import dataclass\n",
    "from typing import Dict, Any\n",
    "\n",
    "\n",
    "@dataclass\n",
    "class Task:\n",
    "    id: int\n",
    "    description: str\n",
    "    status: str\n",
    "    createdAt: str\n",
    "    updatedAt: str\n",
    "\n",
    "\n",
    "    def to_dict(self) -> Dict[str, Any]:\n",
    "        return {\n",
    "        \"id\": self.id,\n",
    "        \"description\": self.description,\n",
    "        \"status\": self.status,\n",
    "        \"createdAt\": self.createdAt,\n",
    "        \"updatedAt\": self.updatedAt,\n",
    "        }\n",
    "\n",
    "\n",
    "    @staticmethod\n",
    "    def from_dict(data: Dict[str, Any]) -> \"Task\":\n",
    "        return Task(\n",
    "            id=int(data[\"id\"]),\n",
    "            description=str(data[\"description\"]),\n",
    "            status=str(data[\"status\"]),\n",
    "            createdAt=str(data[\"createdAt\"]),\n",
    "            updatedAt=str(data[\"updatedAt\"]),\n",
    "        )"
   ]
  },
  {
   "cell_type": "code",
   "execution_count": 5,
   "id": "3df6e1b2",
   "metadata": {},
   "outputs": [
    {
     "data": {
      "text/plain": [
       "[]"
      ]
     },
     "execution_count": 5,
     "metadata": {},
     "output_type": "execute_result"
    }
   ],
   "source": [
    "JsonStorage().list()"
   ]
  }
 ],
 "metadata": {
  "kernelspec": {
   "display_name": "Python 3",
   "language": "python",
   "name": "python3"
  },
  "language_info": {
   "codemirror_mode": {
    "name": "ipython",
    "version": 3
   },
   "file_extension": ".py",
   "mimetype": "text/x-python",
   "name": "python",
   "nbconvert_exporter": "python",
   "pygments_lexer": "ipython3",
   "version": "3.12.0"
  }
 },
 "nbformat": 4,
 "nbformat_minor": 5
}
